{
 "cells": [
  {
   "cell_type": "markdown",
   "metadata": {},
   "source": [
    "# Fundamentals of Programming 111 Fall Final Exam  Student ID：1114570 Name：李漢瓏"
   ]
  },
  {
   "cell_type": "markdown",
   "metadata": {},
   "source": [
    "# Problem 1. Find the approximate value of pi (求pi 的近似值)\n",
    "Design a program to input a floating-point number delta, and try to calculate the minimum k value when the difference between math.pi and the approximate value of pi is less than delta. The approximate value of pi is defined as follows:<br>\n",
    "pi=4\\*∑ (-1)\\*\\*k/(2\\*k+1) (k=0, 1, 2, …)<br>\n",
    "The first value output by the program is an approximation of pi, the second is k. <br>\n",
    "(Hint: Adding from math import pi to Python can calculate pi as 3.141592653589793)<br>\n",
    "\n",
    "設計一程式輸入一浮點數delta，試計算math.pi 與pi的近似值之差值小於delta時之最小k值，pi的近似值定義如下：<br>\n",
    "pi=4\\*∑ (-1)\\*\\*k/(2\\*k+1) (k=0, 1, 2, …)<br>\n",
    "程式輸出的第一個值是pi的近似值，第二個是k。<br>\n",
    "(提示：Python加上from math import pi，可計算出pi為3.141592653589793)<br>\n",
    "\n",
    "Input<br>\n",
    "delta<br>\n",
    "Output<br>\n",
    "pi<br>\n",
    "k<br>\n",
    "<br>\n",
    "Sample Input<br>\n",
    "0.01<br>\n",
    "Sample Output<br>\n",
    "3.1315929035585537<br>\n",
    "99<br>\n",
    "<br>\n",
    "Sample Input<br>\n",
    "0.001<br>\n",
    "Sample Output<br>\n",
    "3.140592653839794<br>\n",
    "999<br>\n",
    "<br>\n",
    "Sample Input<br>\n",
    "0.0001<br>\n",
    "Sample Output<br>\n",
    "3.1414926535900345<br>\n",
    "9999<br>\n",
    " "
   ]
  },
  {
   "cell_type": "code",
   "execution_count": 1,
   "metadata": {},
   "outputs": [],
   "source": [
    "# Problem 1\n",
    "# Name: Your name\n",
    "# Time: 3:30 \n",
    "# ... your code goes here ..."
   ]
  },
  {
   "cell_type": "markdown",
   "metadata": {},
   "source": [
    "# Problem 2: International Standard Book Number(國際標準書號) ISBN-13\n",
    "\n",
    "The complete International Standard Book Number 13 (ISBN-13), the last digit is a check code, numbers 0 to 9, used to verify whether the ISBN code is correct or not. <br>\n",
    "The calculation method of the 13-digit check code is as follows:<br>\n",
    "<br>\n",
    "Divide the first 12 codes into two batches according to the singular and plural positions<br>\n",
    "For example: 978-986-737-582-7 <br>\n",
    "Singular positions: 9,8,8,7,7,8<br>\n",
    "Plural positions: 7,9,6,3,5,2<br>\n",
    "Direct addition of numbers in singular positions<br>\n",
    "Add the digits in the complex position and multiply by 3<br>\n",
    "Then add the numbers from the two sets<br>\n",
    "(9+8+8+7+7+8)+(7+9+6+3+5+2)\\*3<br>\n",
    "Take the remainder after dividing by 10<br>\n",
    "((9+8+8+7+7+8)+(7+9+6+3+5+2)\\*3) % 10<br>\n",
    "The resulting number is subtracted by 10 to become a check code<br>\n",
    "10-((9+8+8+7+7+8)+(7+9+6+3+5+2)\\*3) % 10 gets 7<br>\n",
    "If the check code is 10, it will be automatically converted to 0<br>\n",
    "Therefore, the check code of 978-986-737-582-7 is 7, the calculated check code is 7, and the return is True<br>\n",
    "In addition, the check code of 978-986-434-216-5 is 5, the calculated check code is 7, and returns False<br>\n",
    "\n",
    "完整的ISBN-13國際標準書號13碼，最後一位為校驗碼，數字0到9，作用為驗證該ISBN碼是否正確屬實。<br>\n",
    "13 位校驗碼的計算方法如下:<br>\n",
    "<br>\n",
    "按單複數位置將前12碼分為兩批<br>\n",
    "例如:978-986-737-582-7 <br>\n",
    "單數位置:9,8,8,7,7,8 <br>\n",
    "複數位置:7,9,6,3,5,2 <br>\n",
    "單數位置的數字直接相加<br>\n",
    "複數位置的數字相加後乘3<br>\n",
    "然後將兩組得到的數字相加<br>\n",
    "(9+8+8+7+7+8)+(7+9+6+3+5+2)\\*3<br>\n",
    "除以10後取餘數<br>\n",
    "((9+8+8+7+7+8)+(7+9+6+3+5+2)\\*3) % 10<br>\n",
    "所得數字 以10來減得值變為校驗碼<br>\n",
    "10-((9+8+8+7+7+8)+(7+9+6+3+5+2)\\*3) % 10 得 7<br>\n",
    "若校驗碼為10 則自動轉換成0<br>\n",
    "所以，978-986-737-582-7 的校驗碼是 7，計算出之校驗碼是 7，回傳True<br>\n",
    "另外，978-986-434-216-5 的校驗碼是 5，計算出之校驗碼是 7，回傳False<br>\n",
    "\n",
    "<br>\n",
    "Sample Input<br>\n",
    "978-986-737-582-7<br>\n",
    "Sample Output<br>\n",
    "True<br>\n",
    "\n",
    "Sample Input<br>\n",
    "978-986-434-216-5<br>\n",
    "Sample Output<br>\n",
    "False<br>"
   ]
  },
  {
   "cell_type": "code",
   "execution_count": 8,
   "metadata": {},
   "outputs": [],
   "source": [
    "# Problem 2\n",
    "# Name: Your name\n",
    "# Time: 3:30 \n",
    "# ... your code goes here ...\n",
    "def isbn_check13(userin):\n",
    "    ISBN=userin.replace('-', '')\n",
    "\n",
    "    add=0\n",
    "    for i in range(12):\n",
    "        if i%2==0:\n",
    "            add+=int(ISBN[i])\n",
    "\n",
    "        else:\n",
    "            t=int(ISBN[i]) * 3\n",
    "            add+=t\n",
    "\n",
    "    testt=10-add%10\n",
    "\n",
    "    if testt==10:\n",
    "        testt=0\n",
    "\n",
    "    return testt == int(ISBN[12])\n",
    "    \n"
   ]
  },
  {
   "cell_type": "code",
   "execution_count": 9,
   "metadata": {},
   "outputs": [
    {
     "data": {
      "text/plain": [
       "True"
      ]
     },
     "execution_count": 9,
     "metadata": {},
     "output_type": "execute_result"
    }
   ],
   "source": [
    "isbn_check13(\"978-986-737-582-7\")"
   ]
  },
  {
   "cell_type": "code",
   "execution_count": 10,
   "metadata": {},
   "outputs": [
    {
     "data": {
      "text/plain": [
       "False"
      ]
     },
     "execution_count": 10,
     "metadata": {},
     "output_type": "execute_result"
    }
   ],
   "source": [
    "isbn_check13(\"978-986-434-216-5\")"
   ]
  },
  {
   "cell_type": "markdown",
   "metadata": {},
   "source": [
    "# Problem 3. Quiz results query system(成績查詢系統)\n",
    " \"John No. 1, Mary No. 2, Jimmy No. 3...\" John whispered. <br>\n",
    "\"What are you doing?\" Mary asked. <br>\n",
    "\"The new semester is here, memorize the student number and names of the classmates,\" John replied. <br>\n",
    "\"So great, can you memorize everyone's quiz results?\" Mary deliberately made things difficult. <br>\n",
    "In fact, John really couldn't remember it. But John didn't want to admit it directly. <br>\n",
    "If he could secretly check everyone's quiz results with his student number on his cell phone, perhaps John would be able to trick Mary into being able to memorize it. <br>\n",
    "<br>\n",
    "Input description<br>\n",
    "Column 1: Integers N and M, representing that there are N students in the class, and there are M scores that you want to query (separated by blanks). (N,M <= 100)<br>\n",
    "The next two columns: the results of students from student number 1 to student number N (separated by blanks). <br>\n",
    "Then 3 columns: the student number of the classmate to be quired (separated by blanks). <br>\n",
    "<br>\n",
    "Output description<br>\n",
    "Column 1: The average, variance, range and average standard error of all students’ scores (separated by commas)<br>\n",
    "Column 2: The scores of the students being queried (separated by commas). <br>\n",
    "Column 3: The average, variance, range and average standard error of the queried students’ scores(separated by commas).<br>\n",
    "「1號約翰、2號瑪莉、3號吉米…」約翰小聲地念著。<br>\n",
    "「你在做什麼啊？」瑪莉詢問。<br>\n",
    "「新學期到了，把班上同學的座號和名字背起來啊。」約翰回答。<br>\n",
    "「這麼厲害，那你背得起來大家的小考成績嗎？」瑪莉故意刁難。<br>\n",
    "事實上，約翰還真的背不起來。但是約翰不想直接承認這件事。<br>\n",
    "要是能偷偷透過手機，用座號查詢每個人的小考成績，或許約翰就能騙過瑪莉自己能夠背起來了。<br>\n",
    "<br>\n",
    "輸入說明<br>\n",
    "第1列：整數N、M，代表班上同學有N位、想查詢的成績有M筆(空白隔開)。(N,M <= 100)<br>\n",
    "接著2列：座號1~座號N同學的成績(空白隔開)。<br>\n",
    "接著3列：欲查詢同學的座號(空白隔開)。<br>\n",
    "<br>\n",
    "輸出說明<br>\n",
    "第1列：所有同學成績的平均數、變異數、範圍與平均數的標準誤(逗點隔開)<br>\n",
    "第2列：被查詢同學的成績(逗點隔開)。<br>\n",
    "第3列：被查詢同學成績的平均數、變異數、範圍與平均數的標準誤(逗點隔開)<br>\n",
    "\n",
    "<br>\n",
    "input<br>\n",
    "10 5<br>\n",
    "100 92 98 97 65 80 100 99 87 75<br>\n",
    "1 3 5 7 9<br>\n",
    "output<br>\n",
    "89.3, 150.23, 35, 3.876<br>\n",
    "100, 98, 65, 100, 87<br>\n",
    "90.0,224.50, 35, 6.701<br></u>\n",
    "<br>"
   ]
  },
  {
   "cell_type": "code",
   "execution_count": 1,
   "metadata": {},
   "outputs": [],
   "source": [
    "# Problem 3\n",
    "# Name: Your name\n",
    "# Time: 3:30 \n",
    "# ... your code goes here ...\n",
    "(student, q) = input().split()\n",
    "\n",
    "uin = input().split()\n",
    "scores = [int(x) for x in uin]\n",
    "uin2 = input().split()\n",
    "query = [int(x) for x in uin2]\n",
    "mea = sum(scores) / len(scores)\n",
    "\n",
    "tmp_sum = 0\n",
    "for i in scores:\n",
    "    tmp_sum += (i - mea) ** 2\n",
    "var = tmp_sum / (len(scores) - 1)\n",
    "\n",
    "ra = max(scores) - min(scores)\n",
    "st = (var / len(scores))**0.5\n",
    "print(str(mea) + ', ' + str(var) + ', ' + str(ra) + ', ' + str(st))\n",
    "\n",
    "t = True\n",
    "\n",
    "score2 = []\n",
    "\n",
    "for i in query:\n",
    "\n",
    "    score2.append(scores[i - 1])\n",
    "\n",
    "    if t:\n",
    "        t = False\n",
    "    else:\n",
    "        print(', ', end='')\n",
    "\n",
    "    print(scores[i - 1], end='')\n",
    "\n",
    "print()\n",
    "\n",
    "mean2 = sum(score2) / len(score2)\n",
    "\n",
    "tmp_sum2 = 0\n",
    "\n",
    "for i in score2:\n",
    "    tmp_sum2 += (i - mean2) ** 2\n",
    "\n",
    "v2 = tmp_sum2 / (len(score2) - 1)\n",
    "\n",
    "rang2 = max(score2) - min(score2)\n",
    "\n",
    "std2 = (v2 / len(score2)) ** 0.5\n",
    "\n",
    "print(str(mean2) + ', ' + str(v2) + ', ' + str(rang2) + ', ' + str(std2))\n"
   ]
  },
  {
   "cell_type": "markdown",
   "metadata": {},
   "source": [
    "# Problem 4. Set of primes (質數對集)\n",
    "\n",
    "The prime numbers 3, 7, 109 and 673 are pretty amazing. By taking any two prime numbers and concatenating them in any order, the result will always be a prime number. For example, take 7 and 109 and concatenate them in any order to get 7109 and 1097 which are both prime numbers. The sum of these four primes is 792, representing the smallest sum of a set of four primes with this property. <br>\n",
    "<br>\n",
    "Input an N and an M (2, 3, 4) to find the minimum sum of a set of M prime numbers greater than N, where any two prime numbers are connected to produce another prime number<br>\n",
    "For example: input N=1, M=2, output 10(3+7); input N=1, M=3, output 119(3+7+109); input N=5, M=3, output 789( 7+109+673); input N=10, M=2, output 782(109+673), etc. <br>\n",
    "\n",
    "質數 3、7、109 和 673 非常了不起。 通過取任意兩個質數並以任意順序連接它們，結果將始終是質數。 例如，取 7 和 109，以任意順序連接它們後得到7109 和 1097 都是質數。 這四個質數的總和為 792，代表具有此特性的一組四個質數的最小和。<br>\n",
    "<br>\n",
    "輸入一個N與一個M(2, 3, 4)找出一組M個大於N的質數的最小總和，其中任意兩個質數連接產生另一個質數<br>\n",
    "例如：輸入N=1, M=2，輸出10(3+7)；輸入N=1, M=3，輸出119(3+7+109)；輸入N=5, M=3，輸出789(7+109+673)；輸入N=10, M=2，輸出782(109+673)等。 <br>\n",
    "<br>\n",
    "Sample Input<br>\n",
    "1<br>\n",
    "2<br>\n",
    "Sample Output<br>\n",
    "10<br>\n",
    "\n",
    "Sample Input<br>\n",
    "5<br>\n",
    "3<br>\n",
    "Sample Output<br>\n",
    "789<br>\n"
   ]
  },
  {
   "cell_type": "code",
   "execution_count": 2,
   "metadata": {},
   "outputs": [],
   "source": [
    "# Problem 4\n",
    "# Name: Your name\n",
    "# Time: 3:30 \n",
    "# ... your code goes here ... \n"
   ]
  }
 ],
 "metadata": {
  "kernelspec": {
   "display_name": "Python 3 (ipykernel)",
   "language": "python",
   "name": "python3"
  },
  "language_info": {
   "codemirror_mode": {
    "name": "ipython",
    "version": 3
   },
   "file_extension": ".py",
   "mimetype": "text/x-python",
   "name": "python",
   "nbconvert_exporter": "python",
   "pygments_lexer": "ipython3",
   "version": "3.9.12"
  }
 },
 "nbformat": 4,
 "nbformat_minor": 2
}
